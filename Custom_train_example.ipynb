{
  "nbformat": 4,
  "nbformat_minor": 0,
  "metadata": {
    "colab": {
      "name": "Custom_train_example.ipynb",
      "provenance": [],
      "collapsed_sections": [],
      "authorship_tag": "ABX9TyNEj2j7nmblCo6+48gpSv4R"
    },
    "kernelspec": {
      "name": "python3",
      "display_name": "Python 3"
    }
  },
  "cells": [
    {
      "cell_type": "markdown",
      "metadata": {
        "id": "8GMvn_-eMyqT"
      },
      "source": [
        "# In this Notebook I will show how the shapes of randomly trained embeddings change after applying the unsupervised Word2Vec.\n",
        "\n",
        "The Sentences I used for fast training were\n",
        "\n",
        "* I am Jash Shah\n",
        "* Shivam and I Study at BITS Pilani\n",
        "* I am enrolled in ENI\n",
        "\n",
        "After the training, it would be quite intuative that how the unsupervised model is behaving while forming the clusters or groups of similar words."
      ]
    },
    {
      "cell_type": "code",
      "metadata": {
        "id": "ZfCuGf9al53R"
      },
      "source": [
        "word_data = pickle.load(open(\"/Jash/My Drive/NLP/Example/word_data.p\", \"rb\"))"
      ],
      "execution_count": 5,
      "outputs": []
    },
    {
      "cell_type": "code",
      "metadata": {
        "id": "nE_Tfjrx3GMT"
      },
      "source": [
        "loader = np.load(\"/Jash/My Drive/NLP/SKG0.001_2weight_numpy.npy\")"
      ],
      "execution_count": 8,
      "outputs": []
    },
    {
      "cell_type": "code",
      "metadata": {
        "id": "0A1GLyNG3oMX",
        "colab": {
          "base_uri": "https://localhost:8080/"
        },
        "outputId": "7d61f8f2-3be4-4ea7-9aa8-6f580f1185b7"
      },
      "source": [
        "print(loader)\n",
        "print(loader.shape)"
      ],
      "execution_count": 9,
      "outputs": [
        {
          "output_type": "stream",
          "text": [
            "[[5.41045245e-01 2.73831210e-01]\n",
            " [4.18580917e-01 8.40511076e-01]\n",
            " [9.88046983e-06 1.26017523e-01]\n",
            " [6.70768177e-01 8.26449820e-01]\n",
            " [1.37632902e-01 5.73220714e-01]\n",
            " [8.85600087e-01 2.05694691e-01]\n",
            " [1.87917145e-01 1.00294165e-01]\n",
            " [2.18624740e-01 9.76067541e-01]\n",
            " [8.11559450e-01 1.72675224e-01]\n",
            " [8.14816758e-01 2.71687032e-01]\n",
            " [4.32000824e-01 9.33343559e-01]\n",
            " [8.20979036e-01 3.34922809e-01]\n",
            " [1.76617121e-01 3.70199662e-01]]\n",
            "(13, 2)\n"
          ],
          "name": "stdout"
        }
      ]
    },
    {
      "cell_type": "code",
      "metadata": {
        "id": "tKt8YQlk4XlO",
        "colab": {
          "base_uri": "https://localhost:8080/"
        },
        "outputId": "6f3ff079-ab7b-4a26-dfa8-da242af94945"
      },
      "source": [
        "print(np.dot(loader.T, word_data[\" SHIVAM \"]))\n",
        "print(np.dot(loader.T, word_data[\" JASH \"]))"
      ],
      "execution_count": null,
      "outputs": [
        {
          "output_type": "stream",
          "text": [
            "[0.54104525 0.27383121]\n",
            "[9.88046983e-06 1.26017523e-01]\n"
          ],
          "name": "stdout"
        }
      ]
    },
    {
      "cell_type": "markdown",
      "metadata": {
        "id": "jMf3vyI1ZIY9"
      },
      "source": [
        "As you can see, that even with only 3 lines to train, the model could predict that Jash and Shivam are 2 different entities with a large Eucledian Distance."
      ]
    }
  ]
}